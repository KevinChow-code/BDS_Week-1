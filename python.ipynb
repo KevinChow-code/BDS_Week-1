# Create an ipython notebook. Have it do the simple calculation 4 + 4 in a code chunk. Add one text chunk that says "this is a text chunk". Save that notebook as `notebook1.ipynb`, add it to this repository in the root directory, commit the changes then push it to your github repo to submit.

4+4
"this is a text chunk"
